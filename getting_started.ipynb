{
 "cells": [
  {
   "cell_type": "markdown",
   "metadata": {},
   "source": [
    "This notebook shows how to use the code to create new experiments, load precomputed kernels, compute predictions on test sets. Also, it shows how to compute the Linear and Gaussian kernels (substring kernel has a dedicated python file as it is significantly slower to compute)."
   ]
  },
  {
   "cell_type": "code",
   "execution_count": 1,
   "metadata": {},
   "outputs": [],
   "source": [
    "import pandas as pd\n",
    "import matplotlib.pyplot as plt\n",
    "\n",
    "import cvxpy\n",
    "import time\n",
    "import numpy as np\n",
    "import multiprocessing as mp\n",
    "from tqdm import tqdm\n",
    "import sys\n",
    "sys.path.append('code/')"
   ]
  },
  {
   "cell_type": "code",
   "execution_count": 2,
   "metadata": {},
   "outputs": [
    {
     "data": {
      "text/plain": [
       "<module 'algos' from 'code/algos.py'>"
      ]
     },
     "execution_count": 2,
     "metadata": {},
     "output_type": "execute_result"
    }
   ],
   "source": [
    "import io_utils\n",
    "import kernels\n",
    "import algos\n",
    "from importlib import reload\n",
    "reload(kernels)\n",
    "reload(io_utils)\n",
    "reload(algos)"
   ]
  },
  {
   "cell_type": "markdown",
   "metadata": {},
   "source": [
    "### Create experiment and load datasets"
   ]
  },
  {
   "cell_type": "code",
   "execution_count": 3,
   "metadata": {},
   "outputs": [],
   "source": [
    "np.random.seed(42)\n",
    "\n",
    "exp = io_utils.Experiment()\n",
    "exp.create_new_experiment()"
   ]
  },
  {
   "cell_type": "markdown",
   "metadata": {},
   "source": [
    "### Load previous experiment"
   ]
  },
  {
   "cell_type": "code",
   "execution_count": 4,
   "metadata": {},
   "outputs": [
    {
     "name": "stderr",
     "output_type": "stream",
     "text": [
      "100%|██████████| 3/3 [00:15<00:00,  5.12s/it]\n"
     ]
    }
   ],
   "source": [
    "kernels_wd_train, k_test = exp.load('kernels/SS_7_02.0', True)"
   ]
  },
  {
   "cell_type": "code",
   "execution_count": 5,
   "metadata": {},
   "outputs": [
    {
     "name": "stdout",
     "output_type": "stream",
     "text": [
      "Minimum vp is 3.317647\n",
      "Minimum vp is 5.027438\n",
      "Minimum vp is -0.000000\n"
     ]
    }
   ],
   "source": [
    "# Takes ~ 1min\n",
    "for kn in kernels_wd_train:\n",
    "    print(\"Minimum vp is {:.6f}\".format(np.min(np.linalg.eigvals(kn))))"
   ]
  },
  {
   "cell_type": "markdown",
   "metadata": {},
   "source": [
    "### Cross validation"
   ]
  },
  {
   "cell_type": "code",
   "execution_count": 6,
   "metadata": {},
   "outputs": [],
   "source": [
    "krr = algos.KernelRidgeRegression()\n",
    "svm = algos.SVM()\n",
    "\n",
    "cur_algo = krr  #svm"
   ]
  },
  {
   "cell_type": "code",
   "execution_count": 13,
   "metadata": {
    "scrolled": true
   },
   "outputs": [
    {
     "name": "stderr",
     "output_type": "stream",
     "text": [
      "\r",
      "  0%|          | 0/5 [00:00<?, ?it/s]"
     ]
    },
    {
     "name": "stdout",
     "output_type": "stream",
     "text": [
      "Cross validation with 5 slices. Training set: 1600, Validation set: 400\n"
     ]
    },
    {
     "name": "stderr",
     "output_type": "stream",
     "text": [
      "100%|██████████| 5/5 [00:09<00:00,  1.90s/it]"
     ]
    },
    {
     "name": "stdout",
     "output_type": "stream",
     "text": [
      "Best parameter: 0.31622776601683794\n",
      "Score 1: 0.637\n",
      "Score 2: 0.6415\n",
      "Score 3: 0.741\n"
     ]
    },
    {
     "name": "stderr",
     "output_type": "stream",
     "text": [
      "\n"
     ]
    },
    {
     "data": {
      "text/plain": [
       "0.6731666666666666"
      ]
     },
     "execution_count": 13,
     "metadata": {},
     "output_type": "execute_result"
    }
   ],
   "source": [
    "TRIALS = 5\n",
    "\n",
    "lambda_vals = np.logspace(-2, 0, TRIALS)\n",
    "\n",
    "cur_algo.cross_validate(exp, kernels_wd_train, lambda_vals)"
   ]
  },
  {
   "cell_type": "markdown",
   "metadata": {},
   "source": [
    "### Predictions"
   ]
  },
  {
   "cell_type": "code",
   "execution_count": 8,
   "metadata": {
    "scrolled": true
   },
   "outputs": [
    {
     "name": "stdout",
     "output_type": "stream",
     "text": [
      "Score : 0.986\n",
      "Score : 0.990\n",
      "Score : 0.990\n"
     ]
    }
   ],
   "source": [
    "predictions = []\n",
    "\n",
    "for i in range(3):\n",
    "    cur_algo.fit(kernels_wd_train[i], exp.labels[i], 0.1)\n",
    "    cur_algo.evaluatePerformance(kernels_wd_train[i], exp.labels[i])\n",
    "    r_pred = cur_algo.predict(k_test[i])\n",
    "    predictions.append(r_pred.copy())"
   ]
  },
  {
   "cell_type": "markdown",
   "metadata": {},
   "source": [
    "### Save submission file"
   ]
  },
  {
   "cell_type": "code",
   "execution_count": 9,
   "metadata": {},
   "outputs": [],
   "source": [
    "predictions = np.array(predictions).flatten()\n",
    "io_utils.parse_output(predictions, \"submission_2203_2.csv\")"
   ]
  },
  {
   "cell_type": "markdown",
   "metadata": {},
   "source": [
    "## Linear and gaussian kernels"
   ]
  },
  {
   "cell_type": "markdown",
   "metadata": {},
   "source": [
    "### Linear kernel"
   ]
  },
  {
   "cell_type": "code",
   "execution_count": 10,
   "metadata": {},
   "outputs": [],
   "source": [
    "linear_kernel = kernels.LinearKernel()\n",
    "K_linear_train = []\n",
    "for i in range(3):\n",
    "    K_linear_train.append(linear_kernel.computeVectorizedKernel(exp.feats[i], exp.feats[i]))\n"
   ]
  },
  {
   "cell_type": "markdown",
   "metadata": {},
   "source": [
    "### Gaussian kernel"
   ]
  },
  {
   "cell_type": "code",
   "execution_count": 11,
   "metadata": {},
   "outputs": [],
   "source": [
    "gaussian_kernel = kernels.GaussianKernel(.5)\n",
    "K_gauss_train, K_gauss_val = [], []\n",
    "for i in range(3):\n",
    "    K_gauss_train.append(gaussian_kernel.computeVectorizedKernel(exp.feats[i], exp.feats[i]))\n"
   ]
  },
  {
   "cell_type": "markdown",
   "metadata": {},
   "source": [
    "### If needed, save experiment"
   ]
  },
  {
   "cell_type": "code",
   "execution_count": null,
   "metadata": {},
   "outputs": [],
   "source": [
    "# kernel_name = \"wd_7_02\"\n",
    "# exp.save('kernels/{}'.format(kernel_name), kernels_train, kernels_test)"
   ]
  }
 ],
 "metadata": {
  "kernelspec": {
   "display_name": "Python 3",
   "language": "python",
   "name": "python3"
  },
  "language_info": {
   "codemirror_mode": {
    "name": "ipython",
    "version": 3
   },
   "file_extension": ".py",
   "mimetype": "text/x-python",
   "name": "python",
   "nbconvert_exporter": "python",
   "pygments_lexer": "ipython3",
   "version": "3.6.9"
  }
 },
 "nbformat": 4,
 "nbformat_minor": 2
}
