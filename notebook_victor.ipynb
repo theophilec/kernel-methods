{
 "cells": [
  {
   "cell_type": "code",
   "execution_count": 1,
   "metadata": {},
   "outputs": [],
   "source": [
    "import pandas as pd\n",
    "import matplotlib.pyplot as plt\n",
    "import numpy as np\n",
    "import cvxpy\n",
    "import multiprocessing as mp\n",
    "from tqdm import tqdm"
   ]
  },
  {
   "cell_type": "code",
   "execution_count": 2,
   "metadata": {},
   "outputs": [],
   "source": [
    "import io_utils\n",
    "import kernels\n",
    "import algos"
   ]
  },
  {
   "cell_type": "code",
   "execution_count": 3,
   "metadata": {},
   "outputs": [],
   "source": [
    "raw_train, raw_val, labels_train, labels_val = [], [], [], []\n",
    "\n",
    "for i in range(3):\n",
    "    r_tr, r_val, _, _, lbl_tr, lbl_val = io_utils.train_val_single_dataset(i)\n",
    "    raw_train.append(r_tr)\n",
    "    raw_val.append(r_val)\n",
    "    labels_train.append(lbl_tr)\n",
    "    labels_val.append(lbl_val)"
   ]
  },
  {
   "cell_type": "code",
   "execution_count": null,
   "metadata": {},
   "outputs": [],
   "source": [
    "pool = mp.Pool(6)\n",
    "# Compute kernels\n",
    "kernel_train, kernel_vals = [], []\n",
    "\n",
    "kern_ss = kernels.SubstringKernel(7, 0.1)\n",
    "\n",
    "for n in range(3):\n",
    "    n_train, n_val = raw_train[n].shape[0], raw_val[n].shape[0]\n",
    "    \n",
    "    t = time.time()\n",
    "    args = [(raw_train[n][i], raw_train[n][j]) for i in range(n_train) for j in range(i, n_train) ]\n",
    "    result = pool.map(kern_ss.computeKernel, args)\n",
    "    e = time.time()\n",
    "    print(e-t)\n",
    "    \n",
    "    count = 0\n",
    "    K = np.zeros((n_train, n_train))\n",
    "\n",
    "    for i in range(n_train):\n",
    "        for j in range(i, n_train):\n",
    "            K[i,j] = result[count]\n",
    "            count +=1\n",
    "\n",
    "    for i in range(n_train):\n",
    "        for j in range(0, i):\n",
    "            K[i,j] = K[j,i]\n",
    "            args = [(raw_train[n][i], raw_val[n][j]) for i in range(n_train) for j in range(n_val) ]\n",
    "    \n",
    "    result = pool.map(kern_ss.computeKernel, args)\n",
    "    intermediate = np.zeros((n_train, n_val))\n",
    "    count = 0\n",
    "    for i in tqdm(range(n_train)):\n",
    "        for j in range(n_val):\n",
    "            intermediate[i,j] = result[count]\n",
    "            count +=1\n",
    "    kernel_train.append(K.copy())\n",
    "    kernel_vals.append(intermediate.copy())\n",
    "\n"
   ]
  },
  {
   "cell_type": "code",
   "execution_count": null,
   "metadata": {},
   "outputs": [],
   "source": [
    "# Test\n",
    "kernel_tests = []\n",
    "\n",
    "for i in range(3):\n",
    "    cur_test = io_utils.load_raw_test(i)\n",
    "    \n",
    "    args = [(raw_train[i][j], cur_test[k]) for j in range(raw_train[i].shape[0]) for k in range(cur_test.shape[0]) ]\n",
    "    result = pool.map(computeKernel, args)\n",
    "\n",
    "    kernel_test = np.zeros((raw_train[i].shape[0], cur_test.shape[0]))\n",
    "\n",
    "    count = 0\n",
    "    for k in range(raw_train[i].shape[0]):\n",
    "        for l in range(cur_test.shape[0]):\n",
    "            kernel_test[k,l] = result[count]\n",
    "            count +=1\n",
    "            \n",
    "    kernel_tests.append(kernel_test.copy())"
   ]
  },
  {
   "cell_type": "code",
   "execution_count": 4,
   "metadata": {},
   "outputs": [],
   "source": [
    "# Load from files\n",
    "kernel_train, kernel_vals, kernel_tests = io_utils.load_kernels(\"kernels/substring_7_01\")"
   ]
  },
  {
   "cell_type": "code",
   "execution_count": 5,
   "metadata": {},
   "outputs": [
    {
     "name": "stdout",
     "output_type": "stream",
     "text": [
      "Score : 0.458\n",
      "Score : 0.485\n",
      "Score : 0.493\n"
     ]
    }
   ],
   "source": [
    "## Prediction \n",
    "lambd = 7e-2\n",
    "all_preds = []\n",
    "\n",
    "krr = algos.KernelRidgeRegression()\n",
    "\n",
    "for i in range(3):\n",
    "    krr.fit(kernel_train[i], labels_train[i], lambd)\n",
    "    error = krr.evaluatePerformance(kernel_vals[i], labels_val[i])\n",
    "  \n",
    "    # Test\n",
    "    pred_test = krr.predict(kernel_tests[i])\n",
    "    all_preds.append(pred_test.copy())\n"
   ]
  },
  {
   "cell_type": "code",
   "execution_count": 6,
   "metadata": {},
   "outputs": [
    {
     "ename": "NameError",
     "evalue": "name 'importlib' is not defined",
     "output_type": "error",
     "traceback": [
      "\u001b[0;31m---------------------------------------------------------------------------\u001b[0m",
      "\u001b[0;31mNameError\u001b[0m                                 Traceback (most recent call last)",
      "\u001b[0;32m<ipython-input-6-645d8be8cf7c>\u001b[0m in \u001b[0;36m<module>\u001b[0;34m\u001b[0m\n\u001b[0;32m----> 1\u001b[0;31m \u001b[0mimportlib\u001b[0m\u001b[0;34m.\u001b[0m\u001b[0mreload\u001b[0m\u001b[0;34m(\u001b[0m\u001b[0malgos\u001b[0m\u001b[0;34m)\u001b[0m\u001b[0;34m\u001b[0m\u001b[0;34m\u001b[0m\u001b[0m\n\u001b[0m\u001b[1;32m      2\u001b[0m \u001b[0;34m\u001b[0m\u001b[0m\n\u001b[1;32m      3\u001b[0m \u001b[0mlambda_vals\u001b[0m \u001b[0;34m=\u001b[0m \u001b[0mnp\u001b[0m\u001b[0;34m.\u001b[0m\u001b[0mlogspace\u001b[0m\u001b[0;34m(\u001b[0m\u001b[0;34m-\u001b[0m\u001b[0;36m2\u001b[0m\u001b[0;34m,\u001b[0m \u001b[0;36m3\u001b[0m\u001b[0;34m,\u001b[0m \u001b[0mTRIALS\u001b[0m\u001b[0;34m)\u001b[0m\u001b[0;34m\u001b[0m\u001b[0;34m\u001b[0m\u001b[0m\n\u001b[1;32m      4\u001b[0m \u001b[0;34m\u001b[0m\u001b[0m\n\u001b[1;32m      5\u001b[0m \u001b[0mkrr\u001b[0m \u001b[0;34m=\u001b[0m \u001b[0malgos\u001b[0m\u001b[0;34m.\u001b[0m\u001b[0mKernelRidgeRegression\u001b[0m\u001b[0;34m(\u001b[0m\u001b[0;34m)\u001b[0m\u001b[0;34m\u001b[0m\u001b[0;34m\u001b[0m\u001b[0m\n",
      "\u001b[0;31mNameError\u001b[0m: name 'importlib' is not defined"
     ]
    }
   ],
   "source": [
    "lambda_vals = np.logspace(-2, 3, TRIALS)\n",
    "\n",
    "krr = algos.KernelRidgeRegression()\n",
    "for i in range(3):\n",
    "    errors = krr.searchBestParameters(kernel_train[i], train_labels[i], kernel_vals[i], val_labels[i], lambda_vals)"
   ]
  },
  {
   "cell_type": "code",
   "execution_count": null,
   "metadata": {},
   "outputs": [],
   "source": []
  }
 ],
 "metadata": {
  "kernelspec": {
   "display_name": "Python 3",
   "language": "python",
   "name": "python3"
  },
  "language_info": {
   "codemirror_mode": {
    "name": "ipython",
    "version": 3
   },
   "file_extension": ".py",
   "mimetype": "text/x-python",
   "name": "python",
   "nbconvert_exporter": "python",
   "pygments_lexer": "ipython3",
   "version": "3.6.9"
  }
 },
 "nbformat": 4,
 "nbformat_minor": 2
}
