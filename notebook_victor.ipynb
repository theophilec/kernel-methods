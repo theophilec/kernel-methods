{
 "cells": [
  {
   "cell_type": "code",
   "execution_count": 1,
   "metadata": {},
   "outputs": [],
   "source": [
    "import pandas as pd\n",
    "import matplotlib.pyplot as plt\n",
    "import numpy as np\n",
    "import cvxpy"
   ]
  },
  {
   "cell_type": "code",
   "execution_count": 2,
   "metadata": {},
   "outputs": [],
   "source": [
    "def train_val_dataset():\n",
    "    tr1 = pd.read_csv('data/Xtr0.csv')\n",
    "    tr2 = pd.read_csv('data/Xtr1.csv')\n",
    "    tr3 = pd.read_csv('data/Xtr2.csv')\n",
    "\n",
    "    tr1_feats = np.loadtxt(open(\"data/Xtr0_mat100.csv\", \"rb\"), delimiter=\" \")\n",
    "    tr2_feats = np.loadtxt(open(\"data/Xtr1_mat100.csv\", \"rb\"), delimiter=\" \")\n",
    "    tr3_feats = np.loadtxt(open(\"data/Xtr2_mat100.csv\", \"rb\"), delimiter=\" \")\n",
    "\n",
    "    tr1_labels = np.array(pd.read_csv('data/Ytr0.csv')[\"Bound\"])\n",
    "    tr2_labels = np.array(pd.read_csv('data/Ytr1.csv')[\"Bound\"])\n",
    "    tr3_labels = np.array(pd.read_csv('data/Ytr2.csv')[\"Bound\"])\n",
    "\n",
    "    n1 = tr1.shape[0]\n",
    "    n2 = tr2.shape[0]\n",
    "    n3 = tr3.shape[0]\n",
    "    n_tot = n1+n2+n3\n",
    "\n",
    "    all_feats = np.vstack((tr1_feats, tr2_feats, tr3_feats))\n",
    "    all_labels = np.hstack((tr1_labels, tr2_labels, tr3_labels))\n",
    "    all_labels[all_labels == 0] = -1\n",
    "    \n",
    "    VALIDATION_RATIO = 0.2\n",
    "    shuffled_idx = np.arange(n_tot)\n",
    "    np.random.shuffle(shuffled_idx)\n",
    "\n",
    "    feats_val = all_feats[shuffled_idx[:int(VALIDATION_RATIO*n_tot)]]\n",
    "    feats_train = all_feats[shuffled_idx[int(VALIDATION_RATIO*n_tot):]]\n",
    "    labels_val = all_labels[shuffled_idx[:int(VALIDATION_RATIO*n_tot)]]\n",
    "    labels_train = all_labels[shuffled_idx[int(VALIDATION_RATIO*n_tot):]]\n",
    "    \n",
    "    return feats_train, feats_val, labels_train, labels_val"
   ]
  },
  {
   "cell_type": "code",
   "execution_count": 3,
   "metadata": {},
   "outputs": [],
   "source": [
    "def load_test_dataset():\n",
    "    te1_feats = np.loadtxt(open(\"data/Xte0_mat100.csv\", \"rb\"), delimiter=\" \")\n",
    "    te2_feats = np.loadtxt(open(\"data/Xte1_mat100.csv\", \"rb\"), delimiter=\" \")\n",
    "    te3_feats = np.loadtxt(open(\"data/Xte2_mat100.csv\", \"rb\"), delimiter=\" \")\n",
    "    all_feats = np.vstack((te1_feats, te2_feats, te3_feats))\n",
    "    \n",
    "    return all_feats"
   ]
  },
  {
   "cell_type": "code",
   "execution_count": 4,
   "metadata": {},
   "outputs": [],
   "source": [
    "feats_train, feats_val, labels_train, labels_val = train_val_dataset()"
   ]
  },
  {
   "cell_type": "code",
   "execution_count": 5,
   "metadata": {},
   "outputs": [],
   "source": [
    "feats_test = load_test_dataset()"
   ]
  },
  {
   "cell_type": "code",
   "execution_count": 6,
   "metadata": {},
   "outputs": [
    {
     "name": "stdout",
     "output_type": "stream",
     "text": [
      "(3000, 100)\n",
      "(4800,)\n"
     ]
    }
   ],
   "source": [
    "print(feats_test.shape)\n",
    "print(labels_train.shape)"
   ]
  },
  {
   "cell_type": "code",
   "execution_count": 7,
   "metadata": {},
   "outputs": [
    {
     "name": "stdout",
     "output_type": "stream",
     "text": [
      "4800\n"
     ]
    },
    {
     "data": {
      "image/png": "[encoded data removed]",
      "text/plain": [
       "<Figure size 432x288 with 1 Axes>"
      ]
     },
     "metadata": {
      "needs_background": "light"
     },
     "output_type": "display_data"
    }
   ],
   "source": [
    "# Kernel Ridge Regression\n",
    "TRIALS = 10\n",
    "lambda_vals = np.logspace(-6, -3, TRIALS)\n",
    "\n",
    "n = feats_train.shape[0]\n",
    "d = feats_train.shape[1]\n",
    "print(n)\n",
    "K = feats_train @ feats_train.T \n",
    "intermediate = feats_train @ feats_val.T \n",
    "# print(labels_train.shape)\n",
    "val_error = []\n",
    "for lambd in lambda_vals:\n",
    "    alpha = np.linalg.inv(K + lambd * n * np.eye(n))@labels_train\n",
    "    pred = np.einsum('i, ij->j', alpha, intermediate)\n",
    "    val_error.append(1-(np.sum(np.sign(pred) != np.sign(labels_val))/labels_val.shape))\n",
    "    \n",
    "plt.plot(lambda_vals, val_error, label=\"Validation error\")\n",
    "plt.xscale('log')\n",
    "plt.legend(loc='upper left')\n",
    "plt.xlabel(r\"$\\lambda$\", fontsize=16)\n",
    "plt.show()"
   ]
  },
  {
   "cell_type": "code",
   "execution_count": 8,
   "metadata": {},
   "outputs": [],
   "source": [
    "# Optimal lambda is around 9x10^-4 for linear kernel\n",
    "lambd = 9*10**-4\n",
    "K = feats_train @ feats_train.T \n",
    "intermediate = feats_train @ feats_test.T \n",
    "alpha = np.linalg.inv(K + lambd * n * np.eye(n))@labels_train\n",
    "pred = np.einsum('i, ij->j', alpha, intermediate)"
   ]
  },
  {
   "cell_type": "code",
   "execution_count": 10,
   "metadata": {},
   "outputs": [
    {
     "name": "stdout",
     "output_type": "stream",
     "text": [
      "(1000, 1000)\n"
     ]
    }
   ],
   "source": [
    "## SVM \n",
    "import cvxpy as cp\n",
    "\n",
    "n = 1000\n",
    "K = feats_train[:n] @ feats_train[:n].T\n",
    "print(K.shape)\n",
    "y = labels_train[:n]\n",
    "intermediate = feats_train[:n] @ feats_val.T \n",
    "\n",
    "TRIALS = 10\n",
    "lambda_vals = np.logspace(-7, -4, TRIALS)\n",
    "val_error = []\n",
    "for lambd in lambda_vals:\n",
    "    alpha = cp.Variable(n)\n",
    "\n",
    "    constraints = []\n",
    "    for i in range(n):\n",
    "        constraints += [y[i] * alpha[i] >=0 , y[i] * alpha[i] <= 1/(2*lambd*n)]\n",
    "\n",
    "    prob = cp.Problem(cp.Minimize(-2 * alpha.T @ y + cp.quad_form(alpha, K) ), constraints)\n",
    "    prob.solve()\n",
    "    \n",
    "    pred = np.einsum('i, ij->j', alpha.value, intermediate)\n",
    "    val_error.append(1-(np.sum(np.sign(pred) != np.sign(labels_val))/labels_val.shape))"
   ]
  },
  {
   "cell_type": "code",
   "execution_count": 11,
   "metadata": {},
   "outputs": [
    {
     "data": {
      "image/png": "[encoded data removed]",
      "text/plain": [
       "<Figure size 432x288 with 1 Axes>"
      ]
     },
     "metadata": {
      "needs_background": "light"
     },
     "output_type": "display_data"
    }
   ],
   "source": [
    "plt.plot(lambda_vals, val_error, label=\"Validation error\")\n",
    "plt.xscale('log')\n",
    "plt.legend(loc='upper left')\n",
    "plt.xlabel(r\"$\\lambda$\", fontsize=16)\n",
    "plt.show()"
   ]
  },
  {
   "cell_type": "code",
   "execution_count": 12,
   "metadata": {},
   "outputs": [
    {
     "name": "stdout",
     "output_type": "stream",
     "text": [
      "[-1 -1 -1 ...  1 -1  1]\n"
     ]
    }
   ],
   "source": [
    "print(labels_train)"
   ]
  },
  {
   "cell_type": "code",
   "execution_count": 13,
   "metadata": {},
   "outputs": [
    {
     "name": "stdout",
     "output_type": "stream",
     "text": [
      "[-0.35418174 -0.10007602 -0.12721142 ...  0.13391924  0.07042585\n",
      "  0.20681735]\n",
      "[0.55666667]\n"
     ]
    }
   ],
   "source": [
    "intermediate = feats_train[:n] @ feats_val.T \n",
    "pred = np.einsum('i, ij->j', alpha.value, intermediate)\n",
    "print(pred)\n",
    "labels_val[labels_val == 0] = -1\n",
    "print(1-(np.sum(np.sign(pred) != np.sign(labels_val))/labels_val.shape))"
   ]
  },
  {
   "cell_type": "code",
   "execution_count": null,
   "metadata": {},
   "outputs": [],
   "source": []
  },
  {
   "cell_type": "code",
   "execution_count": null,
   "metadata": {},
   "outputs": [],
   "source": []
  },
  {
   "cell_type": "code",
   "execution_count": null,
   "metadata": {},
   "outputs": [],
   "source": [
    "def parse_output(predictions, filename):\n",
    "    '''\n",
    "        predictions : list of predictions\n",
    "    '''\n",
    "    predictions = np.sign(predictions)\n",
    "    predictions[predictions == -1] = 0\n",
    "    \n",
    "    with open(filename, 'w') as f:\n",
    "        f.write(\"Id,Bound\\n\")\n",
    "        count = 0\n",
    "        for i in range(predictions.shape[0]):\n",
    "            f.write(\"{},{}\\n\".format(count, int(predictions[i])))\n",
    "            count += 1\n",
    "                "
   ]
  },
  {
   "cell_type": "code",
   "execution_count": null,
   "metadata": {},
   "outputs": [],
   "source": [
    "parse_output(pred, \"test.txt\")"
   ]
  },
  {
   "cell_type": "code",
   "execution_count": null,
   "metadata": {},
   "outputs": [],
   "source": [
    "np.sign(pred)"
   ]
  },
  {
   "cell_type": "code",
   "execution_count": null,
   "metadata": {},
   "outputs": [],
   "source": [
    "def gaussian_kernel(feats, sigma=10):\n",
    "    norm_feats  = np.sum(feats**2,1)\n",
    "    print(norm_feats)\n",
    "    K = np.exp(-(norm_feats[:,None] + norm_feats[None,:] - 2 * np.dot(norm_feats, norm_feats.T))/(2 * sigma** 2))\n",
    "    return K\n",
    "\n",
    "def gaussian_kernel_1d(feats,x, sigma=10):\n",
    "    norm_x = np.square(np.linalg.norm(feats - x[None,:], axis=-1))\n",
    "    K = 1/(np.sqrt(2*np.pi)*sigma) * np.exp(-norm_x/(2 * sigma** 2))\n",
    "    return K\n"
   ]
  }
 ],
 "metadata": {
  "kernelspec": {
   "display_name": "Python 3",
   "language": "python",
   "name": "python3"
  },
  "language_info": {
   "codemirror_mode": {
    "name": "ipython",
    "version": 3
   },
   "file_extension": ".py",
   "mimetype": "text/x-python",
   "name": "python",
   "nbconvert_exporter": "python",
   "pygments_lexer": "ipython3",
   "version": "3.6.9"
  }
 },
 "nbformat": 4,
 "nbformat_minor": 2
}
