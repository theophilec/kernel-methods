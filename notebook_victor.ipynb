{
 "cells": [
  {
   "cell_type": "code",
   "execution_count": 1,
   "metadata": {},
   "outputs": [],
   "source": [
    "import pandas as pd\n",
    "import matplotlib.pyplot as plt\n",
    "import numpy as np\n",
    "import cvxpy\n",
    "import time\n",
    "\n",
    "import multiprocessing as mp\n",
    "from tqdm import tqdm"
   ]
  },
  {
   "cell_type": "code",
   "execution_count": 2,
   "metadata": {},
   "outputs": [
    {
     "data": {
      "text/plain": [
       "<module 'io_utils' from '/home/victor/Data/Mines-ParisTech/M2/mva/S2/km/kernel-methods/io_utils.py'>"
      ]
     },
     "execution_count": 2,
     "metadata": {},
     "output_type": "execute_result"
    }
   ],
   "source": [
    "import io_utils\n",
    "import kernels\n",
    "import algos\n",
    "from importlib import reload\n",
    "reload(io_utils)"
   ]
  },
  {
   "cell_type": "markdown",
   "metadata": {},
   "source": [
    "### Create experiment and load datasets"
   ]
  },
  {
   "cell_type": "code",
   "execution_count": 14,
   "metadata": {},
   "outputs": [],
   "source": [
    "np.random.seed(42)\n",
    "\n",
    "exp = io_utils.Experiment()\n",
    "exp.create_new_experiment()"
   ]
  },
  {
   "cell_type": "markdown",
   "metadata": {},
   "source": [
    "### Compute substring kernel for all datasets"
   ]
  },
  {
   "cell_type": "code",
   "execution_count": 15,
   "metadata": {},
   "outputs": [
    {
     "name": "stdout",
     "output_type": "stream",
     "text": [
      "Processing dataset 0\n",
      "Kernel computation took 8.47 seconds\n",
      "Processing dataset 1\n",
      "Kernel computation took 6.86 seconds\n",
      "Processing dataset 2\n",
      "Kernel computation took 7.83 seconds\n"
     ]
    }
   ],
   "source": [
    "pool = mp.Pool(6)\n",
    "# Compute kernels\n",
    "kernels_train, kernels_val = [], []\n",
    "\n",
    "kern_ss = kernels.SubstringKernel(7, 0.1)\n",
    "\n",
    "for n in range(3):\n",
    "    print(\"Processing dataset {}\".format(n))\n",
    "    n_train, n_val = exp.raw_train[n].shape[0], exp.raw_val[n].shape[0]\n",
    "    \n",
    "    t = time.time()\n",
    "    args = [(exp.raw_train[n][i], exp.raw_train[n][j]) for i in range(n_train) for j in range(i, n_train) ]\n",
    "    result = pool.map(kern_ss.computeKernel, args)\n",
    "    e = time.time()\n",
    "    print(\"Kernel computation took {:.2f} seconds\".format(e-t))\n",
    "    \n",
    "    count = 0\n",
    "    K = np.zeros((n_train, n_train))\n",
    "    for i in range(n_train):\n",
    "        for j in range(i, n_train):\n",
    "            K[i,j] = result[count]\n",
    "            count +=1\n",
    "\n",
    "    for i in range(n_train):\n",
    "        for j in range(0, i):\n",
    "            K[i,j] = K[j,i]\n",
    "  \n",
    "    kernels_train.append(K.copy())\n",
    "    args = [(exp.raw_train[n][i], exp.raw_val[n][j]) for i in range(n_train) for j in range(n_val) ]\n",
    "    \n",
    "    result = pool.map(kern_ss.computeKernel, args)\n",
    "    intermediate = np.zeros((n_train, n_val))\n",
    "    count = 0\n",
    "    for i in range(n_train):\n",
    "        for j in range(n_val):\n",
    "            intermediate[i,j] = result[count]\n",
    "            count +=1\n",
    "    kernels_val.append(intermediate.copy())\n",
    "\n"
   ]
  },
  {
   "cell_type": "markdown",
   "metadata": {},
   "source": [
    "### If needed, save experiment"
   ]
  },
  {
   "cell_type": "code",
   "execution_count": 5,
   "metadata": {},
   "outputs": [],
   "source": [
    "exp.save('kernels/substring_4_01', kernels_train, kernels_val)"
   ]
  },
  {
   "cell_type": "markdown",
   "metadata": {},
   "source": [
    "### (Optional) Compute matrices needed for testing "
   ]
  },
  {
   "cell_type": "code",
   "execution_count": 7,
   "metadata": {
    "scrolled": true
   },
   "outputs": [
    {
     "name": "stdout",
     "output_type": "stream",
     "text": [
      "Processing dataset 0\n",
      "100\n",
      "Processing dataset 1\n",
      "100\n",
      "Processing dataset 2\n",
      "100\n"
     ]
    }
   ],
   "source": [
    "# Test\n",
    "exp.load_all_test_datasets()\n",
    "\n",
    "kernels_test = []\n",
    "\n",
    "for i in range(3):    \n",
    "    print(\"Processing dataset {}\".format(i))\n",
    "    n1, n2 = exp.raw_train[i].shape[0], exp.raw_test[i].shape[0]\n",
    "    args = [(exp.raw_train[i][j], exp.raw_test[i][k]) for j in range(n1) for k in range(n2) ]\n",
    "    result = pool.map(kern_ss.computeKernel, args)\n",
    "\n",
    "    kernel_test = np.zeros((n1, n2))\n",
    "\n",
    "    count = 0\n",
    "    for k in range(n1):\n",
    "        for l in range(n2):\n",
    "            kernel_test[k,l] = result[count]\n",
    "            count +=1\n",
    "            \n",
    "    kernels_test.append(kernel_test.copy())"
   ]
  },
  {
   "cell_type": "markdown",
   "metadata": {},
   "source": [
    "## Start here to load saved kernels"
   ]
  },
  {
   "cell_type": "code",
   "execution_count": 9,
   "metadata": {},
   "outputs": [],
   "source": [
    "exp = io_utils.Experiment()\n",
    "kernels_train, kernels_val = exp.load(\"kernels/substring_3_01\")"
   ]
  },
  {
   "cell_type": "markdown",
   "metadata": {},
   "source": [
    "### Linear kernel"
   ]
  },
  {
   "cell_type": "code",
   "execution_count": 10,
   "metadata": {},
   "outputs": [],
   "source": [
    "linear_kernel = kernels.LinearKernel()\n",
    "K_linear_train, K_linear_val = [], []\n",
    "for i in range(3):\n",
    "    K_linear_train.append(linear_kernel.computeVectorizedKernel(exp.feats_train[i], exp.feats_train[i]))\n",
    "    K_linear_val.append(linear_kernel.computeVectorizedKernel(exp.feats_train[i], exp.feats_val[i]))    "
   ]
  },
  {
   "cell_type": "code",
   "execution_count": 16,
   "metadata": {
    "scrolled": true
   },
   "outputs": [
    {
     "name": "stdout",
     "output_type": "stream",
     "text": [
      "Score : 0.600\n"
     ]
    },
    {
     "ename": "ValueError",
     "evalue": "matmul: Input operand 1 has a mismatch in its core dimension 0, with gufunc signature (n?,k),(k,m?)->(n?,m?) (size 80 is different from 1600)",
     "output_type": "error",
     "traceback": [
      "\u001b[0;31m---------------------------------------------------------------------------\u001b[0m",
      "\u001b[0;31mValueError\u001b[0m                                Traceback (most recent call last)",
      "\u001b[0;32m<ipython-input-16-af3da58682b5>\u001b[0m in \u001b[0;36m<module>\u001b[0;34m\u001b[0m\n\u001b[1;32m     17\u001b[0m     \u001b[0mpredictions_1\u001b[0m \u001b[0;34m=\u001b[0m \u001b[0mnp\u001b[0m\u001b[0;34m.\u001b[0m\u001b[0meinsum\u001b[0m\u001b[0;34m(\u001b[0m\u001b[0;34m'i, ij->j'\u001b[0m\u001b[0;34m,\u001b[0m \u001b[0mkrr\u001b[0m\u001b[0;34m.\u001b[0m\u001b[0malpha\u001b[0m\u001b[0;34m,\u001b[0m \u001b[0mkernels_val\u001b[0m\u001b[0;34m[\u001b[0m\u001b[0mi\u001b[0m\u001b[0;34m]\u001b[0m\u001b[0;34m)\u001b[0m\u001b[0;34m\u001b[0m\u001b[0;34m\u001b[0m\u001b[0m\n\u001b[1;32m     18\u001b[0m \u001b[0;34m\u001b[0m\u001b[0m\n\u001b[0;32m---> 19\u001b[0;31m     \u001b[0mkrr\u001b[0m\u001b[0;34m.\u001b[0m\u001b[0mfit\u001b[0m\u001b[0;34m(\u001b[0m\u001b[0mK_linear_train\u001b[0m\u001b[0;34m[\u001b[0m\u001b[0mi\u001b[0m\u001b[0;34m]\u001b[0m\u001b[0;34m,\u001b[0m \u001b[0mexp\u001b[0m\u001b[0;34m.\u001b[0m\u001b[0mlabels_train\u001b[0m\u001b[0;34m[\u001b[0m\u001b[0mi\u001b[0m\u001b[0;34m]\u001b[0m\u001b[0;34m,\u001b[0m \u001b[0mlambd2\u001b[0m\u001b[0;34m)\u001b[0m\u001b[0;34m\u001b[0m\u001b[0;34m\u001b[0m\u001b[0m\n\u001b[0m\u001b[1;32m     20\u001b[0m     \u001b[0merror_2\u001b[0m \u001b[0;34m=\u001b[0m \u001b[0mkrr\u001b[0m\u001b[0;34m.\u001b[0m\u001b[0mevaluatePerformance\u001b[0m\u001b[0;34m(\u001b[0m\u001b[0mK_linear_val\u001b[0m\u001b[0;34m[\u001b[0m\u001b[0mi\u001b[0m\u001b[0;34m]\u001b[0m\u001b[0;34m,\u001b[0m \u001b[0mexp\u001b[0m\u001b[0;34m.\u001b[0m\u001b[0mlabels_val\u001b[0m\u001b[0;34m[\u001b[0m\u001b[0mi\u001b[0m\u001b[0;34m]\u001b[0m\u001b[0;34m)\u001b[0m\u001b[0;34m\u001b[0m\u001b[0;34m\u001b[0m\u001b[0m\n\u001b[1;32m     21\u001b[0m     \u001b[0mw_1\u001b[0m \u001b[0;34m=\u001b[0m \u001b[0;34m(\u001b[0m\u001b[0;36m1\u001b[0m\u001b[0;34m-\u001b[0m\u001b[0merror_2\u001b[0m\u001b[0;34m)\u001b[0m\u001b[0;34m/\u001b[0m\u001b[0;34m(\u001b[0m\u001b[0;36m1\u001b[0m\u001b[0;34m-\u001b[0m\u001b[0merror_1\u001b[0m\u001b[0;34m)\u001b[0m\u001b[0;34m\u001b[0m\u001b[0;34m\u001b[0m\u001b[0m\n",
      "\u001b[0;32m~/Data/Mines-ParisTech/M2/mva/S2/km/kernel-methods/algos.py\u001b[0m in \u001b[0;36mfit\u001b[0;34m(self, training_kernel, training_labels, reg_param)\u001b[0m\n\u001b[1;32m     59\u001b[0m     \u001b[0;32mdef\u001b[0m \u001b[0mfit\u001b[0m\u001b[0;34m(\u001b[0m\u001b[0mself\u001b[0m\u001b[0;34m,\u001b[0m \u001b[0mtraining_kernel\u001b[0m\u001b[0;34m,\u001b[0m \u001b[0mtraining_labels\u001b[0m\u001b[0;34m,\u001b[0m \u001b[0mreg_param\u001b[0m\u001b[0;34m=\u001b[0m\u001b[0;36m0\u001b[0m\u001b[0;34m)\u001b[0m\u001b[0;34m:\u001b[0m\u001b[0;34m\u001b[0m\u001b[0;34m\u001b[0m\u001b[0m\n\u001b[1;32m     60\u001b[0m         \u001b[0mn\u001b[0m \u001b[0;34m=\u001b[0m \u001b[0mtraining_kernel\u001b[0m\u001b[0;34m.\u001b[0m\u001b[0mshape\u001b[0m\u001b[0;34m[\u001b[0m\u001b[0;36m0\u001b[0m\u001b[0;34m]\u001b[0m\u001b[0;34m\u001b[0m\u001b[0;34m\u001b[0m\u001b[0m\n\u001b[0;32m---> 61\u001b[0;31m         \u001b[0malpha\u001b[0m \u001b[0;34m=\u001b[0m \u001b[0mnp\u001b[0m\u001b[0;34m.\u001b[0m\u001b[0mlinalg\u001b[0m\u001b[0;34m.\u001b[0m\u001b[0minv\u001b[0m\u001b[0;34m(\u001b[0m\u001b[0mtraining_kernel\u001b[0m \u001b[0;34m+\u001b[0m \u001b[0mreg_param\u001b[0m \u001b[0;34m*\u001b[0m \u001b[0mn\u001b[0m \u001b[0;34m*\u001b[0m \u001b[0mnp\u001b[0m\u001b[0;34m.\u001b[0m\u001b[0meye\u001b[0m\u001b[0;34m(\u001b[0m\u001b[0mn\u001b[0m\u001b[0;34m)\u001b[0m\u001b[0;34m)\u001b[0m \u001b[0;34m@\u001b[0m \u001b[0mtraining_labels\u001b[0m\u001b[0;34m\u001b[0m\u001b[0;34m\u001b[0m\u001b[0m\n\u001b[0m\u001b[1;32m     62\u001b[0m \u001b[0;34m\u001b[0m\u001b[0m\n\u001b[1;32m     63\u001b[0m         \u001b[0mself\u001b[0m\u001b[0;34m.\u001b[0m\u001b[0malpha\u001b[0m \u001b[0;34m=\u001b[0m \u001b[0malpha\u001b[0m\u001b[0;34m\u001b[0m\u001b[0;34m\u001b[0m\u001b[0m\n",
      "\u001b[0;31mValueError\u001b[0m: matmul: Input operand 1 has a mismatch in its core dimension 0, with gufunc signature (n?,k),(k,m?)->(n?,m?) (size 80 is different from 1600)"
     ]
    }
   ],
   "source": [
    "## Prediction \n",
    "lambd = 7e-1\n",
    "lambd2 = 7e-6\n",
    "TRIALS = 30\n",
    "\n",
    "lambda_vals = np.logspace(-7, -3, TRIALS)\n",
    "\n",
    "all_preds = []\n",
    "\n",
    "krr = algos.KernelRidgeRegression()\n",
    "\n",
    "weights = np.ones((3,2))\n",
    "\n",
    "for i in range(3):\n",
    "    krr.fit(kernels_train[i], exp.labels_train[i], lambd)\n",
    "    error_1 = krr.evaluatePerformance(kernels_val[i], exp.labels_val[i])\n",
    "    predictions_1 = np.einsum('i, ij->j', krr.alpha, kernels_val[i])\n",
    "\n",
    "    krr.fit(K_linear_train[i], exp.labels_train[i], lambd2)\n",
    "    error_2 = krr.evaluatePerformance(K_linear_val[i], exp.labels_val[i])\n",
    "    w_1 = (1-error_2)/(1-error_1)\n",
    "    predictions_2 = np.einsum('i, ij->j', krr.alpha, K_linear_val[i])\n",
    "\n",
    "    global_error = 1 / (w_1 + 1) * predictions_1 + w_1 / (w_1 + 1) * predictions_2\n",
    "    print(np.round(1-np.sum(np.sign(global_error) != np.sign(exp.labels_val[i])) / exp.labels_val[i].shape[0],3))\n",
    "    print(\"----\")\n",
    "\n",
    "# Test\n",
    "#     pred_test = krr.predict(kernel_tests[i])\n",
    "#     all_preds.append(pred_test.copy())\n",
    "\n",
    "    "
   ]
  },
  {
   "cell_type": "code",
   "execution_count": null,
   "metadata": {},
   "outputs": [],
   "source": [
    "TRIALS = 10\n",
    "\n",
    "lambda_vals = np.logspace(-2, 3, TRIALS)\n",
    "\n",
    "krr = algos.KernelRidgeRegression()\n",
    "for i in range(3):\n",
    "    errors = krr.searchBestParameters(exp.kernel_train[i], exp.train_labels[i], exp.kernel_vals[i], exp.val_labels[i], lambda_vals)"
   ]
  }
 ],
 "metadata": {
  "kernelspec": {
   "display_name": "Python 3",
   "language": "python",
   "name": "python3"
  },
  "language_info": {
   "codemirror_mode": {
    "name": "ipython",
    "version": 3
   },
   "file_extension": ".py",
   "mimetype": "text/x-python",
   "name": "python",
   "nbconvert_exporter": "python",
   "pygments_lexer": "ipython3",
   "version": "3.6.9"
  }
 },
 "nbformat": 4,
 "nbformat_minor": 2
}
