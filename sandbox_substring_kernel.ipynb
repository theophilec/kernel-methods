{
 "cells": [
  {
   "cell_type": "markdown",
   "metadata": {},
   "source": [
    "# Substring Kernel"
   ]
  },
  {
   "cell_type": "code",
   "execution_count": 1,
   "metadata": {},
   "outputs": [],
   "source": [
    "import pandas as pd\n",
    "import matplotlib.pyplot as plt\n",
    "import numpy as np\n",
    "from tqdm import tqdm"
   ]
  },
  {
   "cell_type": "markdown",
   "metadata": {},
   "source": [
    "### Import Data"
   ]
  },
  {
   "cell_type": "code",
   "execution_count": 2,
   "metadata": {},
   "outputs": [],
   "source": [
    "def train_val_raw(i):\n",
    "    tr1 = np.array(pd.read_csv('data/Xtr{}.csv'.format(i))[\"seq\"])\n",
    "    tr1_labels = np.array(pd.read_csv('data/Ytr{}.csv'.format(i))[\"Bound\"])\n",
    "    \n",
    "    VALIDATION_RATIO = 0.2\n",
    "\n",
    "    shuffled_idx = np.arange(tr1.shape[0])\n",
    "    np.random.shuffle(shuffled_idx)\n",
    "    \n",
    "    raw_val, raw_train = tr1[shuffled_idx[:int(VALIDATION_RATIO*tr1.shape[0])]], tr1[shuffled_idx[int(VALIDATION_RATIO*tr1.shape[0]):]]\n",
    "    labels_val, labels_train = tr1_labels[shuffled_idx[:int(VALIDATION_RATIO*tr1.shape[0])]], tr1_labels[shuffled_idx[int(VALIDATION_RATIO*tr1.shape[0]):]]\n",
    "    \n",
    "    return raw_train, raw_val, labels_train, labels_val"
   ]
  },
  {
   "cell_type": "code",
   "execution_count": 3,
   "metadata": {},
   "outputs": [],
   "source": [
    "x1_train, x1_val, x1_train_labels, x1_val_labels = train_val_raw(0)"
   ]
  },
  {
   "cell_type": "markdown",
   "metadata": {},
   "source": [
    "### Original Implementation"
   ]
  },
  {
   "cell_type": "code",
   "execution_count": 6,
   "metadata": {},
   "outputs": [],
   "source": [
    "def computeKernel(s1, s2, n, lambd = 0.9):\n",
    "    n1 = len(s1)\n",
    "    n2 = len(s2)\n",
    "    \n",
    "    prev = np.zeros((n1, n2))\n",
    "    nxt = np.zeros((n1, n2))\n",
    "    K = np.zeros(n)\n",
    "    for i in range(n1):\n",
    "        for j in range(n2):\n",
    "            if s1[i] == s2[j]:\n",
    "                prev[i,j] = lambd**2\n",
    "                K[0] += prev[i,j]\n",
    "\n",
    "    K[0] /= lambd ** 2\n",
    "    for l in range(1, n):\n",
    "        B = np.zeros((n1, n2))\n",
    "\n",
    "        for i in range(0, n1):\n",
    "            for j in range(0,n2):\n",
    "                B[i,j] = prev[i,j]\n",
    "                if i != 0: # Problem w/ -1 indexing in Python....\n",
    "                    B[i,j] += lambd * B[i-1,j]\n",
    "                if j!=0:\n",
    "                    B[i,j] += lambd * B[i,j-1]\n",
    "                if i!=0 and j!=0:\n",
    "                    B[i,j] -= lambd**2 * B[i-1, j-1]\n",
    "                    \n",
    "                if s1[i] == s2[j] and i-1 !=0 and j-1 != 0 :\n",
    "                    nxt[i,j] = lambd ** 2 * B[i-1,j-1]\n",
    "                    K[l] += nxt[i,j]\n",
    "\n",
    "        K[l] /= lambd ** (2*(l+1))\n",
    "        prev = nxt.copy()\n",
    "    return K[-1]"
   ]
  },
  {
   "cell_type": "code",
   "execution_count": null,
   "metadata": {},
   "outputs": [
    {
     "name": "stderr",
     "output_type": "stream",
     "text": [
      "  0%|          | 1/1600 [01:09<30:51:19, 69.47s/it]"
     ]
    }
   ],
   "source": [
    "sub_K = np.zeros((x1_train.shape[0], x1_train.shape[0]))\n",
    "for i in tqdm(range(x1_train.shape[0])):\n",
    "    for j in range(i, x1_train.shape[0]):\n",
    "        sub_K[i,j] = computeKernel(x1_train[i],x1_train[j],3)"
   ]
  },
  {
   "cell_type": "markdown",
   "metadata": {},
   "source": [
    "### Vectorized Implementation"
   ]
  },
  {
   "cell_type": "code",
   "execution_count": 4,
   "metadata": {},
   "outputs": [],
   "source": [
    "def computeKernelVect(Comps, n, lambd = 0.9):\n",
    "    # Initialize\n",
    "    length = Comps.shape[2]\n",
    "    K = np.zeros((Comps.shape[0], Comps.shape[1], n))\n",
    "    K[:,:,0] += np.sum(Comps, axis = (2,3))\n",
    "    prev = lambd**2 * Comps.copy()\n",
    "    \n",
    "    # Iterate over all letters\n",
    "    for l in range(1, n):\n",
    "        B = np.zeros((Comps.shape[0], Comps.shape[1], length, length))\n",
    "        nxt = np.zeros((Comps.shape[0], Comps.shape[1], length, length))\n",
    "        for i in range(0, length):\n",
    "            for j in range(0,length):\n",
    "                B[:,:,i,j] = prev[:,:,i,j]\n",
    "                if i != 0: # Problem w/ -1 indexing in Python....\n",
    "                    B[:,:,i,j] += lambd * B[:,:,i-1,j]\n",
    "                if j!=0:\n",
    "                    B[:,:,i,j] += lambd * B[:,:,i,j-1]\n",
    "                if i!=0 and j!=0:\n",
    "                    B[:,:,i,j] -= lambd**2 * B[:,:,i-1, j-1]\n",
    "                if i-1 !=0 and j-1 != 0 :\n",
    "                    nxt[:,:,i,j] = Comps[:,:,i,j] * lambd ** 2 * B[:,:,i-1,j-1]\n",
    "                    K[:,:,l] += nxt[:,:,i,j]\n",
    "\n",
    "        K[:,:,l] /= lambd ** (2*(l+1))\n",
    "        prev = nxt.copy()\n",
    "    return K[:,:,-1]"
   ]
  },
  {
   "cell_type": "code",
   "execution_count": 6,
   "metadata": {},
   "outputs": [
    {
     "name": "stderr",
     "output_type": "stream",
     "text": [
      "  0%|          | 1/399 [01:26<9:30:33, 86.01s/it]"
     ]
    },
    {
     "ename": "KeyboardInterrupt",
     "evalue": "",
     "output_type": "error",
     "traceback": [
      "\u001b[0;31m---------------------------------------------------------------------------\u001b[0m",
      "\u001b[0;31mKeyboardInterrupt\u001b[0m                         Traceback (most recent call last)",
      "\u001b[0;32m<ipython-input-6-5ea2652225c9>\u001b[0m in \u001b[0;36m<module>\u001b[0;34m\u001b[0m\n\u001b[1;32m      7\u001b[0m \u001b[0;32mfor\u001b[0m \u001b[0mi\u001b[0m \u001b[0;32min\u001b[0m \u001b[0mtqdm\u001b[0m\u001b[0;34m(\u001b[0m\u001b[0mrange\u001b[0m\u001b[0;34m(\u001b[0m\u001b[0mlen\u001b[0m\u001b[0;34m(\u001b[0m\u001b[0mslicing\u001b[0m\u001b[0;34m)\u001b[0m \u001b[0;34m-\u001b[0m \u001b[0;36m1\u001b[0m\u001b[0;34m)\u001b[0m\u001b[0;34m,\u001b[0m \u001b[0mposition\u001b[0m \u001b[0;34m=\u001b[0m \u001b[0;36m0\u001b[0m\u001b[0;34m,\u001b[0m \u001b[0mleave\u001b[0m \u001b[0;34m=\u001b[0m \u001b[0;32mTrue\u001b[0m\u001b[0;34m)\u001b[0m\u001b[0;34m:\u001b[0m\u001b[0;34m\u001b[0m\u001b[0;34m\u001b[0m\u001b[0m\n\u001b[1;32m      8\u001b[0m     \u001b[0mComps\u001b[0m \u001b[0;34m=\u001b[0m \u001b[0;34m(\u001b[0m\u001b[0mC\u001b[0m\u001b[0;34m[\u001b[0m\u001b[0mslicing\u001b[0m\u001b[0;34m[\u001b[0m\u001b[0mi\u001b[0m\u001b[0;34m]\u001b[0m\u001b[0;34m:\u001b[0m\u001b[0mslicing\u001b[0m\u001b[0;34m[\u001b[0m\u001b[0mi\u001b[0m\u001b[0;34m+\u001b[0m\u001b[0;36m1\u001b[0m\u001b[0;34m]\u001b[0m\u001b[0;34m,\u001b[0m \u001b[0;32mNone\u001b[0m\u001b[0;34m,\u001b[0m \u001b[0;34m:\u001b[0m\u001b[0;34m,\u001b[0m \u001b[0;32mNone\u001b[0m\u001b[0;34m]\u001b[0m \u001b[0;34m==\u001b[0m \u001b[0mC\u001b[0m\u001b[0;34m[\u001b[0m\u001b[0;32mNone\u001b[0m\u001b[0;34m,\u001b[0m\u001b[0;34m:\u001b[0m\u001b[0;34m,\u001b[0m\u001b[0;32mNone\u001b[0m\u001b[0;34m,\u001b[0m\u001b[0;34m:\u001b[0m\u001b[0;34m]\u001b[0m\u001b[0;34m)\u001b[0m\u001b[0;34m\u001b[0m\u001b[0;34m\u001b[0m\u001b[0m\n\u001b[0;32m----> 9\u001b[0;31m     \u001b[0msub_K\u001b[0m\u001b[0;34m[\u001b[0m\u001b[0mslicing\u001b[0m\u001b[0;34m[\u001b[0m\u001b[0mi\u001b[0m\u001b[0;34m]\u001b[0m\u001b[0;34m:\u001b[0m\u001b[0mslicing\u001b[0m\u001b[0;34m[\u001b[0m\u001b[0mi\u001b[0m\u001b[0;34m+\u001b[0m\u001b[0;36m1\u001b[0m\u001b[0;34m]\u001b[0m\u001b[0;34m,\u001b[0m\u001b[0;34m:\u001b[0m\u001b[0;34m]\u001b[0m \u001b[0;34m=\u001b[0m \u001b[0mcomputeKernelVect\u001b[0m\u001b[0;34m(\u001b[0m\u001b[0mComps\u001b[0m\u001b[0;34m,\u001b[0m\u001b[0;36m3\u001b[0m\u001b[0;34m)\u001b[0m\u001b[0;34m\u001b[0m\u001b[0;34m\u001b[0m\u001b[0m\n\u001b[0m",
      "\u001b[0;32m<ipython-input-4-86f511616eec>\u001b[0m in \u001b[0;36mcomputeKernelVect\u001b[0;34m(Comps, n, lambd)\u001b[0m\n\u001b[1;32m     12\u001b[0m         \u001b[0;32mfor\u001b[0m \u001b[0mi\u001b[0m \u001b[0;32min\u001b[0m \u001b[0mrange\u001b[0m\u001b[0;34m(\u001b[0m\u001b[0;36m0\u001b[0m\u001b[0;34m,\u001b[0m \u001b[0mlength\u001b[0m\u001b[0;34m)\u001b[0m\u001b[0;34m:\u001b[0m\u001b[0;34m\u001b[0m\u001b[0;34m\u001b[0m\u001b[0m\n\u001b[1;32m     13\u001b[0m             \u001b[0;32mfor\u001b[0m \u001b[0mj\u001b[0m \u001b[0;32min\u001b[0m \u001b[0mrange\u001b[0m\u001b[0;34m(\u001b[0m\u001b[0;36m0\u001b[0m\u001b[0;34m,\u001b[0m\u001b[0mlength\u001b[0m\u001b[0;34m)\u001b[0m\u001b[0;34m:\u001b[0m\u001b[0;34m\u001b[0m\u001b[0;34m\u001b[0m\u001b[0m\n\u001b[0;32m---> 14\u001b[0;31m                 \u001b[0mB\u001b[0m\u001b[0;34m[\u001b[0m\u001b[0;34m:\u001b[0m\u001b[0;34m,\u001b[0m\u001b[0;34m:\u001b[0m\u001b[0;34m,\u001b[0m\u001b[0mi\u001b[0m\u001b[0;34m,\u001b[0m\u001b[0mj\u001b[0m\u001b[0;34m]\u001b[0m \u001b[0;34m=\u001b[0m \u001b[0mprev\u001b[0m\u001b[0;34m[\u001b[0m\u001b[0;34m:\u001b[0m\u001b[0;34m,\u001b[0m\u001b[0;34m:\u001b[0m\u001b[0;34m,\u001b[0m\u001b[0mi\u001b[0m\u001b[0;34m,\u001b[0m\u001b[0mj\u001b[0m\u001b[0;34m]\u001b[0m\u001b[0;34m\u001b[0m\u001b[0;34m\u001b[0m\u001b[0m\n\u001b[0m\u001b[1;32m     15\u001b[0m                 \u001b[0;32mif\u001b[0m \u001b[0mi\u001b[0m \u001b[0;34m!=\u001b[0m \u001b[0;36m0\u001b[0m\u001b[0;34m:\u001b[0m \u001b[0;31m# Problem w/ -1 indexing in Python....\u001b[0m\u001b[0;34m\u001b[0m\u001b[0;34m\u001b[0m\u001b[0m\n\u001b[1;32m     16\u001b[0m                     \u001b[0mB\u001b[0m\u001b[0;34m[\u001b[0m\u001b[0;34m:\u001b[0m\u001b[0;34m,\u001b[0m\u001b[0;34m:\u001b[0m\u001b[0;34m,\u001b[0m\u001b[0mi\u001b[0m\u001b[0;34m,\u001b[0m\u001b[0mj\u001b[0m\u001b[0;34m]\u001b[0m \u001b[0;34m+=\u001b[0m \u001b[0mlambd\u001b[0m \u001b[0;34m*\u001b[0m \u001b[0mB\u001b[0m\u001b[0;34m[\u001b[0m\u001b[0;34m:\u001b[0m\u001b[0;34m,\u001b[0m\u001b[0;34m:\u001b[0m\u001b[0;34m,\u001b[0m\u001b[0mi\u001b[0m\u001b[0;34m-\u001b[0m\u001b[0;36m1\u001b[0m\u001b[0;34m,\u001b[0m\u001b[0mj\u001b[0m\u001b[0;34m]\u001b[0m\u001b[0;34m\u001b[0m\u001b[0;34m\u001b[0m\u001b[0m\n",
      "\u001b[0;31mKeyboardInterrupt\u001b[0m: "
     ]
    }
   ],
   "source": [
    "# Initialize\n",
    "C = np.array([list(s) for s in x1_train])\n",
    "slicing = np.linspace(0, C.shape[0], 400).astype(int)\n",
    "\n",
    "# Compute K for each slice\n",
    "sub_K = np.zeros((x1_train.shape[0], x1_train.shape[0]))\n",
    "for i in tqdm(range(len(slicing) - 1), position = 0, leave = True):\n",
    "    Comps = (C[slicing[i]:slicing[i+1], None, :, None] == C[None,:,None,:])\n",
    "    sub_K[slicing[i]:slicing[i+1],:] = computeKernelVect(Comps,3)"
   ]
  }
 ],
 "metadata": {
  "kernelspec": {
   "display_name": "Python 3",
   "language": "python",
   "name": "python3"
  },
  "language_info": {
   "codemirror_mode": {
    "name": "ipython",
    "version": 3
   },
   "file_extension": ".py",
   "mimetype": "text/x-python",
   "name": "python",
   "nbconvert_exporter": "python",
   "pygments_lexer": "ipython3",
   "version": "3.7.1"
  }
 },
 "nbformat": 4,
 "nbformat_minor": 2
}
